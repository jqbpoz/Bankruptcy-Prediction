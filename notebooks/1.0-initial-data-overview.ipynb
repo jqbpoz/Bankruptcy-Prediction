{
 "cells": [
  {
   "metadata": {},
   "cell_type": "markdown",
   "source": [
    "| Attribute | Description |\n",
    "|-----------|-------------|\n",
    "| X1        | Cost of Interest-bearing Debt |\n",
    "| X2        | Cash Reinvestment Ratio |\n",
    "| X3        | Current Ratio |\n",
    "| X4        | Acid Test |\n",
    "| X5        | Interest Expenses/Total Revenue |\n",
    "| X6        | Total Liability/Equity Ratio |\n",
    "| X7        | Liability/Total Assets |\n",
    "| X8        | Interest-bearing Debt/Equity |\n",
    "| X9        | Contingent Liability/Equity |\n",
    "| X10       | Operating Income/Capital |\n",
    "| X11       | Pretax Income/Capital |\n",
    "| X12       | Working Capital to Total Assets |\n",
    "| X13       | Quick Assets/Total assets |\n",
    "| X14       | Current Assets/Total Assets |\n",
    "| X15       | Cash/Total Assets |\n",
    "| X16       | Quick Assets/Current Liability |\n",
    "| X17       | Cash/Current Liability |\n",
    "| X18       | Current Liability to Assets |\n",
    "| X19       | Operating Funds to Liability |\n",
    "| X20       | Inventory/Working Capital |\n",
    "| X21       | Inventory/Current Liability |\n",
    "| X22       | Current Liabilities/Liability |\n",
    "| X23       | Working Capital/Equity |\n",
    "| X24       | Current Liabilities/Equity |\n",
    "| X25       | Long-term Liability to Current Assets |\n",
    "| X26       | Current Liability to Current Assets |\n",
    "| X27       | One if Total Liability exceeds Total Assets; |\n",
    "| X28       | Equity to Liability |\n",
    "| X29       | Equity/Total Assets |\n",
    "| X30       | (Long-term Liability+Equity)/Fixed Assets |\n",
    "| X31       | Fixed Assets to Assets |\n",
    "| X32       | Current Liability to Liability |\n",
    "| X33       | Current Liability to Equity |\n",
    "| X34       | Equity to Long-term Liability |\n",
    "| X35       | Liability to Equity |\n",
    "| X36       | Degree of Financial Leverage |\n",
    "| X37       | Interest Coverage Ratio |\n",
    "| X38       | Operating Expenses/Net Sales |\n",
    "| X39       | (Research and Development Expenses)/Net Sales |\n",
    "| X40       | Effective Tax Rate |\n",
    "| X41       | Book Value Per Share(B) |\n",
    "| X42       | Book Value Per Share(A) |\n",
    "| X43       | Book Value Per Share(C) |\n",
    "| X44       | Cash Flow Per Share |\n",
    "| X45       | Sales Per Share |\n",
    "| X46       | Operating Income Per Share |\n",
    "| X47       | Sales Per Employee |\n",
    "| X48       | Operation Income Per Employee |\n",
    "| X49       | Fixed Assets Per Employee |\n",
    "| X50       | total assets to GNP price |\n",
    "| X51       | Return On Total Assets(C) |\n",
    "| X52       | Return On Total Assets(A) |\n",
    "| X53       | Return On Total Assets(B) |\n",
    "| X54       | Gross Profit /Net Sales |\n",
    "| X55       | Realized Gross Profit/Net Sales |\n",
    "| X56       | Operating Income /Net Sales |\n",
    "| X57       | Pre-Tax Income/Net Sales |\n",
    "| X58       | Net Income/Net Sales |\n",
    "| X59       | Net Non-operating Income Ratio |\n",
    "| X60       | Net Income-Exclude Disposal Gain or Loss/Net Sales |\n",
    "| X61       | EPS-Net Income |\n",
    "| X62       | Pretax Income Per Share |\n",
    "| X63       | Retained Earnings to Total Assets |\n",
    "| X64       | Total Income to Total Expenses |\n",
    "| X65       | Total Expenses to Assets |\n",
    "| X66       | Net Income to Total Assets |\n",
    "| X67       | Gross Profit to Sales |\n",
    "| X68       | Net Income to Stockholder's Equity |\n",
    "| X69       | One if Net Income is Negative for the Last Two Years; Zero Otherwise |\n",
    "| X70       | (Inventory +Accounts Receivables) /Equity |\n",
    "| X71       | Total Asset Turnover |\n",
    "| X72       | Accounts Receivable Turnover |\n",
    "| X73       | Days Receivable Outstanding |\n",
    "| X74       | Inventory Turnover |\n",
    "| X75       | Fixed Asset Turnover |\n",
    "| X76       | Equity Turnover |\n",
    "| X77       | Current Assets to Sales |\n",
    "| X78       | Quick Assets to Sales |\n",
    "| X79       | Working Capital to Sales |\n",
    "| X80       | Cash to Sales |\n",
    "| X81       | Cash Flow to Sales |\n",
    "| X82       | No-credit Interval |\n",
    "| X83       | Cash Flow from Operating/Current Liabilities |\n",
    "| X84       | Cash Flow to Total Assets |\n",
    "| X85       | Cash Flow to Liability |\n",
    "| X86       | CFO to Assets |\n",
    "| X87       | Cash Flow to Equity |\n",
    "| X88       | Realized Gross Profit Growth Rate |\n",
    "| X89       | Operating Income Growth |\n",
    "| X90       | Net Income Growth |\n",
    "| X91       | Continuing Operating Income after Tax Growth |\n",
    "| X92       | Net Income-Excluding Disposal Gain or Loss Growth |\n",
    "| X93       | Total Asset Growth |\n",
    "| X94       | Total Equity Growth |\n",
    "| X95       | Return on Total Asset Growth |"
   ],
   "id": "e991d4fc589e43d8"
  },
  {
   "cell_type": "code",
   "id": "initial_id",
   "metadata": {
    "collapsed": true
   },
   "source": [
    "import pandas as pd\n",
    "import matplotlib.pyplot as plt\n",
    "import seaborn as sns\n",
    "from holoviews.plotting.bokeh.styles import font_size \n",
    "import numpy as np\n",
    "\n",
    "from bankruptcy_prediction.dataset import load_data"
   ],
   "outputs": [],
   "execution_count": null
  },
  {
   "metadata": {},
   "cell_type": "code",
   "source": [
    "path = '../data/raw/dataset.csv'\n",
    "df = load_data(path)"
   ],
   "id": "4ad4448861765045",
   "outputs": [],
   "execution_count": null
  },
  {
   "metadata": {},
   "cell_type": "code",
   "source": [
    "#There is no missing values\n",
    "len_before = len(df)\n",
    "df_cleaned = df.dropna()\n",
    "len_after = len(df_cleaned)\n",
    "print(f\"Rows before cleaning: {len_before}\")\n",
    "print(f\"Rows after cleaning: {len_after}\")"
   ],
   "id": "dbe2d9259c7d4032",
   "outputs": [],
   "execution_count": null
  },
  {
   "metadata": {},
   "cell_type": "code",
   "source": "df_cleaned.info()",
   "id": "d288ef63aad3d995",
   "outputs": [],
   "execution_count": null
  },
  {
   "metadata": {},
   "cell_type": "code",
   "source": [
    "labels = [\"Bankrupt\"] + [f\"X{i}\" for i in range(1, 96)]\n",
    "print(labels)\n",
    "df.columns = labels "
   ],
   "id": "f2fc278323e02ee2",
   "outputs": [],
   "execution_count": null
  },
  {
   "metadata": {},
   "cell_type": "code",
   "source": "df.describe()",
   "id": "f19ff70112de462d",
   "outputs": [],
   "execution_count": null
  },
  {
   "metadata": {},
   "cell_type": "code",
   "source": [
    "# Reshape the DataFrame to a single column\n",
    "reshaped_df = df.values.reshape(-1, 1)\n",
    "# Count the number of zeros\n",
    "num_zeros = (reshaped_df == 0).sum()\n",
    "print(f\"Total Values: {len(reshaped_df)}\")\n",
    "print(f\"Number of zeros: {num_zeros}\")"
   ],
   "id": "395ac964fea34f96",
   "outputs": [],
   "execution_count": null
  },
  {
   "metadata": {},
   "cell_type": "code",
   "source": [
    "df.hist(bins=50, figsize=(20, 15))\n",
    "plt.show()"
   ],
   "id": "2dd279798c94b504",
   "outputs": [],
   "execution_count": null
  },
  {
   "metadata": {},
   "cell_type": "code",
   "source": [
    "df['Bankrupt'].hist(bins=3)\n",
    "plt.show()\n",
    "\n"
   ],
   "id": "6edabc5d31427ea2",
   "outputs": [],
   "execution_count": null
  },
  {
   "metadata": {},
   "cell_type": "code",
   "source": [
    "corr_matrix = df.corr()\n",
    "corr_matrix_1d = corr_matrix.to_numpy().reshape(-1)\n",
    "plt.hist(corr_matrix_1d, bins=50)\n",
    "plt.show()"
   ],
   "id": "cff341204c08c189",
   "outputs": [],
   "execution_count": null
  },
  {
   "metadata": {},
   "cell_type": "code",
   "source": [
    "plt.figure(figsize=(20, 20))\n",
    "sns.heatmap(corr_matrix, annot=False,cmap='coolwarm')"
   ],
   "id": "83f7051423654c84",
   "outputs": [],
   "execution_count": null
  },
  {
   "metadata": {},
   "cell_type": "code",
   "source": [
    "from bankruptcy_prediction.dataset import extract_significant_correlations\n",
    "\n",
    "# List of pairs with correlation above 0.25\n",
    "corr_pairs_df = extract_significant_correlations(corr_matrix, threshold=0.5)\n",
    "corr_pairs_df\n",
    "\n",
    "df_deleted = df.drop(columns=corr_pairs_df['Variable 2'])\n",
    "df_deleted.describe()"
   ],
   "id": "a4ffd0e9f20fdd92",
   "outputs": [],
   "execution_count": null
  },
  {
   "metadata": {},
   "cell_type": "code",
   "source": [
    "unique = corr_pairs_df['Variable 2'].unique()\n",
    "print(f\"Unique Features:{unique},\\ntotal:{len(unique)}\")"
   ],
   "id": "eab2e1c39495a700",
   "outputs": [],
   "execution_count": null
  }
 ],
 "metadata": {
  "kernelspec": {
   "display_name": "Python 3",
   "language": "python",
   "name": "python3"
  },
  "language_info": {
   "codemirror_mode": {
    "name": "ipython",
    "version": 2
   },
   "file_extension": ".py",
   "mimetype": "text/x-python",
   "name": "python",
   "nbconvert_exporter": "python",
   "pygments_lexer": "ipython2",
   "version": "2.7.6"
  }
 },
 "nbformat": 4,
 "nbformat_minor": 5
}
